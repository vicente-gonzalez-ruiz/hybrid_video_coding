{
 "cells": [
  {
   "cell_type": "markdown",
   "metadata": {},
   "source": [
    "# Video compression\n",
    "\n",
    "## Contents\n",
    "1. [Sources of redundancy in video](#sources).\n",
    "2. [Block-based motion compensation](#MC).\n",
    "3. [Sub-pixel accuracy when estimating motion](#subpixel_accuracy).\n",
    "4. [Block matching criteria](#matching_criteria).\n",
    "5. [Block search strategies](#searching_strategies).\n",
    "6. [Working with GOPs](#GOP_concept).\n",
    "7. [MCTF (Motion Compensated Temporal Filtering)](#MCTF).\n",
    "8. [An algorithm for block-based framed interpolation](#linear_frame_interpolation).\n",
    "9. [Hybrid coding alternatives](#hybid_coding_alternatives).\n",
    "10. [Deblocking filtering](#deblocking).\n",
    "11. [Bit allocation strategies](#bit_allocation).\n",
    "12. [Video scalability](#scalabilities).\n",
    "13. [Encoding models](#models)."
   ]
  },
  {
   "cell_type": "markdown",
   "metadata": {},
   "source": [
    "<a id='sources'></a>\n",
    "## Sources of redundancy\n",
    "1. **Spatial redundancy**: Pixels are very similar in its neighborhood or tends to repeat textures.\n",
    "2. **Temporal redundancy**: Temporally adjacent images are typically very alike.\n",
    "3. **Visual redundancy**: Humans hardly perceive high spatial and temporal frequencies (we like more low frequencies)."
   ]
  },
  {
   "cell_type": "markdown",
   "metadata": {},
   "source": [
    "<a id='MC'></a>\n",
    "## Block-based MC (Motion Compensation)\n",
    "\n",
    "* Usually, only performed by the encoder (compress one. decompress many).\n",
    "* MC removes temporal redundancy. A *predicted image* can be\n",
    "  encoded as the difference between it and another image called\n",
    "  *prediction image* which is a motion compensated projection of\n",
    "  one or more images named *reference images*. ME tries to\n",
    "  generate *residue images* as close as possible to the null\n",
    "  images.\n",
    "* For example, in the MPEG-1 standard, the reference image/s is/are divided in blocks of\n",
    "  $16\\times 16$ pixels called *macroblocks*.\n",
    "* Each reference block is searched in the predicted image and the\n",
    "  best match is indicated by mean of a *motion vector*.\n",
    "* Depending on the success of the search and the number of\n",
    "  reference images, the macroblocks are classified into:\n",
    "  + **I (intra)**: When the compression of residue block generates more\n",
    "    bits than the original (predicted) one.\n",
    "  + **P (predicted)**: When it is better to compress the residue block and\n",
    "    there is only one reference macroblock.\n",
    "  + **B (bidirectionally predicted)**: The same, but if we have two reference macroblocks.\n",
    "  + **S (skipped)**: When the energy of the residue block is\n",
    "    smaller than a given threshold.\n",
    "* I-pictures are composed of I macroblocks, only.\n",
    "* P-pictures do not have B macrobocks.\n",
    "* B-pictures can have any type of macroblocks.\n",
    "\n",
    "<img src=\"data/macroblocks.svg\">"
   ]
  },
  {
   "cell_type": "markdown",
   "metadata": {},
   "source": [
    "<a id='subpixel_accuracy'></a>\n",
    "## Sub-pixel accuracy\n",
    "\n",
    "* The motion estimation can be carried out using integer pixel\n",
    "  accuracy or a fractional (sub-) pixel accuracy.\n",
    "* For example, in MPEG-1, the motion estimation can have up to 1/2\n",
    "  pixel accuracy. A bi-linear interpolator is used:\n",
    "\n",
    "<img src=\"data/interpolation.svg\">"
   ]
  },
  {
   "cell_type": "markdown",
   "metadata": {},
   "source": [
    "<a id='matching_criteria'></a>\n",
    "## Matching criteria (similitude between macroblocks)\n",
    "\n",
    "* Let $a$ and $b$ the macroblocks which we want to compare. Two\n",
    "  main distortion metrics are commonly used:\n",
    "  \n",
    "  + **MSE (Mean Square Error)**:\n",
    "  \n",
    "    \\begin{equation}\n",
    "      \\frac{1}{16\\times 16}\\sum_{i=1}^{16}\\sum_{j=1}^{16}(a_{ij}-b_{ij})^2\n",
    "    \\end{equation}\n",
    "    \n",
    "  + **MAE (Mean Absolute Error)**:\n",
    "  \n",
    "    \\begin{equation}\n",
    "      \\frac{1}{16\\times 16}\\sum_{i=1}^{16}\\sum_{j=1}^{16}|a_{ij}-b_{ij}|\n",
    "    \\end{equation}\n",
    "\n",
    "* These similitude measures are used only by MPEG\n",
    "  compressors. Therefore, any other one with similar effects (such as\n",
    "  the error variance or the error entropy) could be used also.\n",
    "\n",
    "* Other less common distortion metrics that can work are:\n",
    "\n",
    "  + **EE (Error [Entropy](https://en.wikipedia.org/wiki/Entropy_(information_theory))**:\n",
    "\n",
    "    \\begin{equation}\n",
    "      -\\frac{1}{16\\times 16}\\sum_{i=1}^{16}\\sum_{j=1}^{16}\\log_2(a_{ij}-b_{ij})p(a_{ij}-b_{ij})\n",
    "    \\end{equation}\n"
   ]
  },
  {
   "cell_type": "markdown",
   "metadata": {},
   "source": [
    "<a id='searching_strategies'></a>\n",
    "## Searching strategies\n",
    "\n",
    "* Only performed by the compressor.\n",
    "\n",
    "    + **Full search**: All the possibilities are\n",
    "    checked. Advantage: the best compression. Disadvantage: CPU\n",
    "    killer.\n",
    "    \n",
    "    <img src=\"data/full_search.svg\">\n",
    "\n",
    "    + ** Logaritmic search**: It is a version of the full search\n",
    "    algorithm where the macro-blocks and the search area are\n",
    "    sub-sampled. After finding the best coincidence, the resolution is increased in a power of 2 and the previous\n",
    "    match is refined in a search area of $\\pm 1$, until the maximal\n",
    "    resolution (even using subpixel accuracy) is reached.\n",
    "    \n",
    "    <a id='telescopic_search'></a>\n",
    "    + **Telescopic search**: Any of the previously described\n",
    "    techniques can be speeded up if the searching area is\n",
    "    reduced. This can be done supposing that the motion vector of the\n",
    "    same macro-block in two consecutive images is similar.\n"
   ]
  },
  {
   "cell_type": "markdown",
   "metadata": {},
   "source": [
    "<a id='searching_strategies'></a>\n",
    "## The GOP (Group Of Pictures) concept\n",
    "\n",
    "* The temporal redundancy is exploited by blocks of images called\n",
    "  GOPs. This means that a GOP can be decoded independently of the rest\n",
    "  of GOPs. Here an example:\n",
    "  \n",
    "<img src=\"data/GOPs.svg\">"
   ]
  },
  {
   "cell_type": "markdown",
   "metadata": {},
   "source": [
    "<a id='MCTF'></a>\n",
    "## MCTF (Motion Compensated Temporal Filtering)\n",
    "\n",
    "* This is a DWT where the input samples are the original video\n",
    "  images and the output is a sequence of residue images.\n",
    "  \n",
    "<img src=\"data/MCTF.svg\">"
   ]
  },
  {
   "cell_type": "markdown",
   "metadata": {},
   "source": [
    "## $\\pm 1$-spiral-search ME (Motion Estimation)\n",
    "<img src=\"data/spiral_search.svg\" width=400>"
   ]
  },
  {
   "cell_type": "markdown",
   "metadata": {},
   "source": [
    "<a id='linear_frame_interpolation'></a>\n",
    "## Linear frame interpolation using block-based motion compensation\n",
    "\n",
    "<img src=\"data/frame_interpolation.svg\">"
   ]
  },
  {
   "cell_type": "markdown",
   "metadata": {},
   "source": [
    "### Input\n",
    "\n",
    "* $R$: square search area, in pixels.\n",
    "* $B$: square block size, in pixels.\n",
    "* $O$: border size, in pixels.\n",
    "* $s_i$, $s_j$ and $s_k$ three chronologically ordered, equidistant frames, with resolution $X\\times Y$.\n",
    "* $A$: $\\frac{1}{2^A}$ subpixel accuracy.\n",
    "\n",
    "### Output\n",
    "\n",
    "* $\\hat{s}_j$: a prediction for frame $s_j$.\n",
    "* $m$: a matrix with $\\lceil X/B\\rceil \\times \\lceil Y/B\\rceil$ bidirectional motion vectors.\n",
    "* $e$: a matrix with $\\lceil X/B\\rceil \\times \\lceil Y/B\\rceil$ bidirectional Root Mean Square matching Wrrors (RMSE).\n",
    "\n",
    "### Algorithm\n",
    "\n",
    "1. Compute the DWT$^l$, where $l=\\lfloor\\log_2(R)\\rfloor-1$ levels, of the predicted frame $s_j$ and the two reference frames $s_i$ and $s_k$.\n",
    "  <img src=\"graphics/frame_interpolation_step_1.svg\">\n",
    "2. $LL^l(m)\\leftarrow 0$, or any other precomputed values (for example, from a previous ME in neighbor frames).\n",
    "  <img src=\"graphics/frame_interpolation_step_2.svg\" width=150>\n",
    "3. Divide the subband $LL^l(s_j)$ into blocks of size $B\\times B$ pixels, and $\\pm 1$-spiral-search them in the subbands $LL^l(s_i)$ and $LL^l(s_k)$, calculating a low-resolution $LL^l(m)=\\{LL^l(\\overleftarrow{m}), LL^l(\\overrightarrow{m})\\}$ bi-directional motion vector field.\n",
    "  <img src=\"graphics/frame_interpolation_step_3A.svg\">\n",
    "  <img src=\"graphics/frame_interpolation_step_3A_bis.svg\" width=200>\n",
    "4. While $l>0$:\n",
    "  1. Synthesize $LL^{l-1}(m)$, $LL^{l-1}(s_j)$, $LL^{l-1}(s_i)$ and $LL^{l-1}(s_k)$, by computing the 1-level DWT$^{-1}$.\n",
    "  <img src=\"graphics/frame_interpolation_step_4A.svg\">\n",
    "  <img src=\"graphics/frame_interpolation_step_4A_bis.svg\" width=200>\n",
    "  2. $LL^{l-1}(M)\\leftarrow LL^{l-1}(M)\\times 2$.\n",
    "  <img src=\"graphics/frame_interpolation_step_4B.svg\" width=200>\n",
    "  3. Refine $LL^{l-1}(m)$ using $\\pm 1$-spiral-search.\n",
    "  <img src=\"graphics/frame_interpolation_step_4C.svg\" width=200>\n",
    "  4. $l\\leftarrow l-1$. (When $l=0$, the motion vectors field $m$ has the structure:)\n",
    "  <img src=\"graphics/motion_vectors.svg\" width=200>\n",
    "4. While $l<A$ (in the first iteration, $l=0$, and $LL^0(M):=M$):\n",
    "  1. $l\\leftarrow l+1$.\n",
    "  2. Synthesize $LL^{-l}(s_j)$, $LL^{-l}(s_i)$ and\n",
    "    $LL^{-l}(s_k)$, computing the 1-level DWT$^{-1}$ (high-frequency subbands are $0$). This performs a zoom-in in these frames using $1/2$-subpixel accuracy.\n",
    "    <img src=\"graphics/frame_interpolation_step_5B.svg\">\n",
    "  3. $m\\leftarrow m\\times 2$.\n",
    "     <img src=\"graphics/motion_vectors_by_2.svg\" width=210>\n",
    "  4. $B\\leftarrow B\\times 2$.\n",
    "  5. Divide the subband $LL^{-l}(s_j)$ into blocks of $B\\times B$ pixels\n",
    "    and $\\pm 1$-spiral-search them into the subbands $LL^{-l}(s_i)$\n",
    "    and $LL^{-l}(s_k)$, calculating a $1/2^l$ sub-pixel accuracy\n",
    "    $m$ bi-directional motion vector field.\n",
    "    <img src=\"graphics/motion_vectors_definitive.svg\" width=280>\n",
    "1. Frame prediction. For each block $b$:\n",
    "  1. Compute\n",
    "    \\begin{equation}\n",
    "      \\hat{b}\\leftarrow \\frac{b_i\\big(\\overleftarrow{e}_\\text{max}-\\overleftarrow{e}(b)\\big) + b_k\\big(\\overrightarrow{e}_\\text{max}-\\overrightarrow{e}(b)\\big)}{\\big(\\overleftarrow{e}_\\text{max}-\\overleftarrow{e}(b)\\big) + \\big(\\overrightarrow{e}_\\text{max}-\\overrightarrow{e}(b)\\big)},\n",
    "    \\end{equation}\n",
    "    where $\\overleftarrow{e}(b)$ is the (minimum) distortion of the best backward matching for block $b$, $\\overrightarrow{e}(b)$ the (minimum) distortion of the best forward matching for block $b$, $\\overleftarrow{e}_\\text{max}=\\overrightarrow{e}_\\text{max}$ are the backward and forward maximum matching distortions, $b_i$ is the (backward) block found (as the most similar to $b$) in frame $s_i$ and $b_k$ is the (forward) block found in frame $s_k$. Notice that, if $\\overleftarrow{e}(b)=\\overrightarrow{e}(b)$, then the prediction is\n",
    "    \\begin{equation}\n",
    "      \\hat{b} = \\frac{b_i + b_k}{2},\n",
    "    \\end{equation}\n",
    "    and if $\\overleftarrow{e}(b)=0$,\n",
    "    \\begin{equation}\n",
    "      \\hat{b} = b_k,\n",
    "    \\end{equation}\n",
    "    and viceversa."
   ]
  },
  {
   "cell_type": "markdown",
   "metadata": {},
   "source": [
    "## Lab\n",
    "\n",
    "Implement the [frame predictor](#linear_frame_interpolation) (work on https://github.com/Sistemas-Multimedia/MCDWT/blob/master/transform/mc/block/interpolate.py). Use https://github.com/Sistemas-Multimedia/MCDWT/blob/master/mcdwt/mc/block/interpolate.py and https://github.com/vicente-gonzalez-ruiz/MCTF-video-coding/blob/master/src/motion_estimate.cpp as reference."
   ]
  },
  {
   "cell_type": "markdown",
   "metadata": {},
   "source": [
    "## Lab\n",
    "\n",
    "Compare the performance of the proposed matching strategies (MSE, MAE and EE) in the [frame predictor](#linear_frame_interpolation), by computing the variance of the prediction error between the original frame ($s_j$) and the prediction frame ($\\hat{s}_j$)."
   ]
  },
  {
   "cell_type": "markdown",
   "metadata": {},
   "source": [
    "## Lab\n",
    "\n",
    "Test different DWT filters in the [frame predictor](#linear_frame_interpolation) and compare their performance. Compute the prediction error between the original frame ($s_j$) and the prediction frame ($\\hat{s}_j$). Measure the dependency between this performance and the distance between frames ($i$, $j$, and $k$ indexes)."
   ]
  },
  {
   "cell_type": "markdown",
   "metadata": {},
   "source": [
    "## Lab\n",
    "\n",
    "Test the use of both the luma and the chroma in [frame predictor](#linear_frame_interpolation), and measure the performance of each option (only luma vs. all components), by computing the prediction error between the original frame ($s_j$) and the prediction frame ($\\hat{s}_j$). Measure the dependency of the results with the distance between frames ($i$, $j$, and $k$ indexes)."
   ]
  },
  {
   "cell_type": "markdown",
   "metadata": {},
   "source": [
    "## Lab\n",
    "\n",
    "Analyze the impact of the $R$ (search range) parameter in the [frame predictor](#linear_frame_interpolation). Compute the prediction error between the original frame ($s_j$) and the prediction frame ($\\hat{s}_j$). Study the impact of initializing the motion vectors ([telescopic search](#telescopic_search)). Measure the dependency with the distance between frames ($i$, $j$, and $k$ indexes).\n",
    "\n"
   ]
  },
  {
   "cell_type": "code",
   "execution_count": 29,
   "metadata": {},
   "outputs": [
    {
     "data": {
      "text/latex": [
       "$$\\text{Analyze Entropy by changing the parameter Search Range}$$"
      ],
      "text/plain": [
       "<IPython.core.display.Math object>"
      ]
     },
     "metadata": {},
     "output_type": "display_data"
    },
    {
     "data": {
      "text/latex": [
       "$$Search Range\\quad\\quad\\quad High_1\\quad\\quad\\quad\\quad High_2\\quad\\quad\\quad\\quad High_3$$"
      ],
      "text/plain": [
       "<IPython.core.display.Math object>"
      ]
     },
     "metadata": {},
     "output_type": "display_data"
    },
    {
     "name": "stdout",
     "output_type": "stream",
     "text": [
      "2.000000\t18.041096\t9.846029\t5.087060\n",
      "4.000000\t18.041096\t9.846029\t5.087060\n",
      "8.000000\t18.041096\t9.846029\t5.087060\n",
      "16.000000\t18.041096\t9.846029\t5.087060\n",
      "32.000000\t18.041096\t9.846029\t5.087060\n",
      "64.000000\t18.041096\t9.846029\t5.087060\n",
      "128.000000\t18.041096\t9.846029\t5.087060\n"
     ]
    },
    {
     "data": {
      "text/plain": [
       "Text(0,0.5,'Entropy')"
      ]
     },
     "execution_count": 29,
     "metadata": {},
     "output_type": "execute_result"
    },
    {
     "data": {
      "image/png": "[encoded data removed]",
      "text/plain": [
       "<matplotlib.figure.Figure at 0xac41630>"
      ]
     },
     "metadata": {},
     "output_type": "display_data"
    }
   ],
   "source": [
    "import numpy as np\n",
    "import matplotlib.pyplot as plt\n",
    "from IPython.display import display, Math, Latex\n",
    "\n",
    "entropyHight1=[(2, 18.041095837829808), (4, 18.041095837829808), (8, 18.041095837829808), (16, 18.041095837829808), (32, 18.041095837829808), (64, 18.041095837829808), (128, 18.041095837829808)]\n",
    "entropyHight2=[(2, 9.846029243766116), (4, 9.846029243766116), (8, 9.846029243766116), (16, 9.846029243766116), (32, 9.846029243766116), (64, 9.846029243766116), (128, 9.846029243766116)]\n",
    "entropyHight3=[(2, 5.087059993090022), (4, 5.087059993090022), (8, 5.087059993090022), (16, 5.087059993090022), (32, 5.087059993090022), (64, 5.087059993090022), (128, 5.087059993090022)]\n",
    "\n",
    "display(Math(r'\\text{Analyze Entropy by changing the parameter Search Range}'))\n",
    "display(Math(r'Search Range\\quad\\quad\\quad High_1\\quad\\quad\\quad\\quad High_2\\quad\\quad\\quad\\quad High_3'))\n",
    "\n",
    "for i in range(0,len(entropyHight1),1):\n",
    "    print(\"{:f}\\t{:6f}\\t{:6f}\\t{:6f}\".\\\n",
    "          format(entropyHight1[i][0], entropyHight1[i][1], entropyHight2[i][1], entropyHight3[i][1]))\n",
    "\n",
    "entropyHight1X, entropyHight1Y = zip(*entropyHight1)\n",
    "entropyHight2X, entropyHight2Y = zip(*entropyHight2)\n",
    "entropyHight3X, entropyHight3Y = zip(*entropyHight3)\n",
    "\n",
    "%matplotlib inline\n",
    "fig, s = plt.subplots()\n",
    "s.plot(entropyHight1X, entropyHight1Y,label=\"Resolution 1\",marker='x')\n",
    "s.plot(entropyHight2X, entropyHight2Y,label=\"Resolution 2\",marker='x')\n",
    "s.plot(entropyHight3X, entropyHight3Y,label=\"Resolution 3\",marker='x')\n",
    "s.legend()\n",
    "s.set_title(\"Search Range\")   \n",
    "s.set_xlabel(\"S\")   \n",
    "s.set_ylabel(\"Entropy\")  "
   ]
  },
  {
   "cell_type": "markdown",
   "metadata": {},
   "source": [
    "## Lab\n",
    "\n",
    "Analyze the impact of the $O$ (overlaping) parameter in the [frame predictor](#linear_frame_interpolation), by means of computing the prediction error between the original frame ($s_j$) and the prediction frame ($\\hat{s}_j$). Measure the dependency with the distance between frames ($i$, $j$, and $k$ indexes)."
   ]
  },
  {
   "cell_type": "markdown",
   "metadata": {},
   "source": [
    "## Lab\n",
    "\n",
    "Analyze the impact of the $B$ (block size) parameter in the [frame predictor](#linear_frame_interpolation), by computing the prediction error between the original frame ($s_j$) and the prediction frame ($\\hat{s}_j$). Compute the expected size of the motion fields using their 0-order entropy. Measure the dependency with the distance between frames ($i$, $j$, and $k$ indexes)."
   ]
  },
  {
   "cell_type": "markdown",
   "metadata": {},
   "source": [
    "## Lab\n",
    "\n",
    "Analyze the impact of the $A$ (subpixel accuracy) parameter in the [frame predictor](#linear_frame_interpolation), by computing the prediction error between the original frame ($s_j$) and the prediction frame ($\\hat{s}_j$). Compute the expected size of the motion fields using their entropy. Measure the dependency with the distance between frames ($i$, $j$, and $k$ indexes)."
   ]
  },
  {
   "cell_type": "code",
   "execution_count": 1,
   "metadata": {},
   "outputs": [
    {
     "data": {
      "text/latex": [
       "$$\\text{Analyze Entropy by changing the parameter Subpixel Search}$$"
      ],
      "text/plain": [
       "<IPython.core.display.Math object>"
      ]
     },
     "metadata": {},
     "output_type": "display_data"
    },
    {
     "data": {
      "text/latex": [
       "$$Resolution\\quad Motion_0\\quad Motion_1\\quad Motion_2\\quad Motion_3\\quad Motion_4\\quad\\quad  High_0\\quad\\quad High_1\\quad\\quad High_2\\quad\\quad High_3\\quad\\quad High_4$$"
      ],
      "text/plain": [
       "<IPython.core.display.Math object>"
      ]
     },
     "metadata": {},
     "output_type": "display_data"
    },
    {
     "name": "stdout",
     "output_type": "stream",
     "text": [
      "1.000000   0.099390  0.293879  0.765173  0.455261  0.611766   0.725300  0.731728   0.697266  0.665301   0.656137\n",
      "2.000000   0.181104  0.878652  0.988113  1.072572  1.046731   0.786234  0.748624   0.713472  0.692288   0.678808\n",
      "3.000000   0.874122  1.307882  1.511335  0.982027  1.024325   0.790956  0.785012   0.759713  0.734755   0.720940\n"
     ]
    },
    {
     "data": {
      "text/plain": [
       "Text(0,0.5,'Entropy')"
      ]
     },
     "execution_count": 1,
     "metadata": {},
     "output_type": "execute_result"
    },
    {
     "data": {
      "image/png": "[encoded data removed]",
      "text/plain": [
       "<matplotlib.figure.Figure at 0x27d8ff6e358>"
      ]
     },
     "metadata": {},
     "output_type": "display_data"
    }
   ],
   "source": [
    "import numpy as np\n",
    "import matplotlib.pyplot as plt\n",
    "from IPython.display import display, Math, Latex\n",
    "\n",
    "sub0 = np.loadtxt('subpixel_analyze/motionhigh_entropy_0.txt')\n",
    "sub1 = np.loadtxt('subpixel_analyze/motionhigh_entropy_1.txt')\n",
    "sub2 = np.loadtxt('subpixel_analyze/motionhigh_entropy_2.txt')\n",
    "sub3 = np.loadtxt('subpixel_analyze/motionhigh_entropy_3.txt')\n",
    "sub4 = np.loadtxt('subpixel_analyze/motionhigh_entropy_4.txt')\n",
    "\n",
    "sub1A = np.array([sub0[0][2],sub1[0][2],sub2[0][2],sub3[0][2],sub4[0][2]])\n",
    "sub2A = np.array([sub0[1][2],sub1[1][2],sub2[1][2],sub3[1][2],sub4[1][2]])\n",
    "sub3A = np.array([sub0[2][2],sub1[2][2],sub2[2][2],sub3[2][2],sub4[2][2]])\n",
    "\n",
    "rl = np.array([sub0[0][0],sub0[1][0],sub0[2][0]])\n",
    "m0 = np.array([sub0[0][1],sub0[1][1],sub0[2][1]])\n",
    "h0 = np.array([sub0[0][2],sub0[1][2],sub0[2][2]])\n",
    "m1 = np.array([sub1[0][1],sub1[1][1],sub1[2][1]])\n",
    "h1 = np.array([sub1[0][2],sub1[1][2],sub1[2][2]])\n",
    "m2 = np.array([sub2[0][1],sub2[1][1],sub2[2][1]])\n",
    "h2 = np.array([sub2[0][2],sub2[1][2],sub2[2][2]])\n",
    "m3 = np.array([sub3[0][1],sub3[1][1],sub3[2][1]])\n",
    "h3 = np.array([sub3[0][2],sub3[1][2],sub3[2][2]])\n",
    "m4 = np.array([sub4[0][1],sub4[1][1],sub4[2][1]])\n",
    "h4 = np.array([sub4[0][2],sub4[1][2],sub4[2][2]])\n",
    "\n",
    "\n",
    "display(Math(r'\\text{Analyze Entropy by changing the parameter Subpixel Search}'))\n",
    "display(Math(r'Resolution\\quad Motion_0\\quad Motion_1\\quad Motion_2\\quad Motion_3\\quad Motion_4\\quad\\quad  High_0\\quad\\quad High_1\\quad\\quad High_2\\quad\\quad High_3\\quad\\quad High_4'))\n",
    "print(\"{:f}   {:6f}  {:6f}  {:6f}  {:6f}  {:6f}   {:6f}  {:6f}   {:6f}  {:6f}   {:6f}\".\\\n",
    "          format(sub0[0][0], sub0[0][1], sub1[0][1], sub2[0][1],sub3[0][1],sub4[0][1],sub0[0][2], sub1[0][2], sub2[0][2],sub3[0][2],sub4[0][2]))\n",
    "\n",
    "print(\"{:f}   {:6f}  {:6f}  {:6f}  {:6f}  {:6f}   {:6f}  {:6f}   {:6f}  {:6f}   {:6f}\".\\\n",
    "          format(sub0[1][0], sub0[1][1], sub1[1][1], sub2[1][1],sub3[1][1],sub4[1][1],sub0[1][2], sub1[1][2], sub2[1][2],sub3[1][2],sub4[1][2]))\n",
    "\n",
    "print(\"{:f}   {:6f}  {:6f}  {:6f}  {:6f}  {:6f}   {:6f}  {:6f}   {:6f}  {:6f}   {:6f}\".\\\n",
    "          format(sub0[2][0], sub0[2][1], sub1[2][1], sub2[2][1],sub3[2][1],sub4[2][1],sub0[2][2], sub1[2][2], sub2[2][2],sub3[2][2],sub4[2][2]))\n",
    "\n",
    "%matplotlib inline\n",
    "fig, s = plt.subplots()\n",
    "s.plot(sub1A,label=\"Resolution 1\",marker='x')\n",
    "s.plot(sub2A,label=\"Resolution 2\",marker='x')\n",
    "s.plot(sub3A,label=\"Resolution 3\",marker='x')\n",
    "s.legend()\n",
    "s.set_title(\"Subpixel Accuracy\")   \n",
    "s.set_xlabel(\"A\")   \n",
    "s.set_ylabel(\"Entropy\")  "
   ]
  },
  {
   "cell_type": "markdown",
   "metadata": {},
   "source": [
    "## Lab\n",
    "\n",
    "Compare the performance of the [frame predictor](#linear_frame_interpolation) when it holds that\n",
    "\n",
    "\\begin{equation}\n",
    "   \\hat{b} = \\frac{b_i + b_k}{2},\n",
    "\\end{equation}\n",
    "\n",
    "for all blocks."
   ]
  },
  {
   "cell_type": "markdown",
   "metadata": {},
   "source": [
    "<a id='hybid_coding_alternatives'></a>\n",
    "## MC/DWT hybrid coding alternatives\n",
    "\n",
    "* **t+2d**: The sequence of images is decorrelated first\n",
    "  along the time (t) and the residue images are compressed, exploiting\n",
    "  the remaining spatial (2d) redundancy. Examples: MPEG* and H.26*\n",
    "  codecs (except H.264/SVC).\n",
    "  \n",
    "* **2d+t**: The spatial (2d) redudancy is explited first\n",
    "  (using typically the DWT) and after that, the coefficients are decorrelated\n",
    "  along the time (t). For now, this has only been an experimental setup\n",
    "  because most DWT transformed domains are not invariant to the\n",
    "  displacement, and therefore, ME/MC can not be directly applied.\n",
    "  \n",
    "* **2d+t+2d**: The fist step creates a Laplacian Pyramid\n",
    "  (2d), which is invariant to the displacement. Next, each level of\n",
    "  the pyramid is decorrelated along the time (t) and finally, the\n",
    "  remaining spatial redundancy is removed (2d). Example: H.264/SVC.\n",
    "\n",
    "<img src=\"data/H264-S-SVC.svg\">"
   ]
  },
  {
   "cell_type": "markdown",
   "metadata": {},
   "source": [
    "<a id='deblocking'></a>\n",
    "## Deblocking filtering\n",
    "\n",
    "* If any other block-overlaping techniques have not been applied, block-based video encoders improve their performance if a deblocking filter in used to create the quantized prediction predictions.\n",
    "  \n",
    "<img src=\"data/350px-Deblock1.jpg\" width=600>\n",
    "\n",
    "* The low-pass filter is applied only on the block boundaries."
   ]
  },
  {
   "cell_type": "markdown",
   "metadata": {},
   "source": [
    "<a id='bit_allocation'></a>\n",
    "## Bit-rate allocation\n",
    "\n",
    "* VBR: Under a constant quantization level (constant video quality),\n",
    "  the number of bits that each compressed image needs depends on the\n",
    "  image content (Variable Bit-Rate). Example:\n",
    "\n",
    "  <img src=\"data/closed-loop-1_ir.svg\">\n",
    "  \n",
    "* CBR: Using a Constant Bit-Rate strategy, all frames need the same space. Example:\n",
    "\n",
    "  <img src=\"data/CBR.svg\">"
   ]
  },
  {
   "cell_type": "markdown",
   "metadata": {},
   "source": [
    "<a id='scalabilities'></a>\n",
    "## Video scalability"
   ]
  },
  {
   "cell_type": "markdown",
   "metadata": {},
   "source": [
    "### Quality scalability\n",
    "\n",
    "<img src=\"data/quality-scalability.svg\">\n",
    "\n",
    "* Ideal for remote visualization environments.\n",
    "\n",
    "* By definition, $s^{[0]}:=s$."
   ]
  },
  {
   "cell_type": "markdown",
   "metadata": {},
   "source": [
    "### Temporal scalability\n",
    "\n",
    "<img src=\"data/temporal-scalability.svg\">\n",
    "\n",
    "* It holds that\n",
    "\n",
    "  \\begin{equation}\n",
    "    s^{t}=\\{s_{2^t i}\\}=\\{s_{2i}^{t-1}\\},\n",
    "  \\end{equation}\n",
    "  \n",
    "  where $t$ denotes the Temporal Resolution Level (TRL).\n",
    "\n",
    "* Notice that $s:=s^{0}$.\n",
    "\n",
    "* Useful for fast random access."
   ]
  },
  {
   "cell_type": "markdown",
   "metadata": {},
   "source": [
    "### Spatial scalability\n",
    "\n",
    "  <img src=\"data/spatial-scalability.svg\">\n",
    "\n",
    "* Useful for low-resolution devices.\n",
    "\n",
    "* By definition, $V_i:=V_i^{<0>}$ and $V_i^{<s>}$ has a\n",
    "  $\\frac{Y}{2^s}\\times \\frac{X}{2^s}$ resolution, where $X\\times Y$ is\n",
    "  the resolution of $V_i$."
   ]
  }
 ],
 "metadata": {
  "kernelspec": {
   "display_name": "Python 3 (ipykernel)",
   "language": "python",
   "name": "python3"
  },
  "language_info": {
   "codemirror_mode": {
    "name": "ipython",
    "version": 3
   },
   "file_extension": ".py",
   "mimetype": "text/x-python",
   "name": "python",
   "nbconvert_exporter": "python",
   "pygments_lexer": "ipython3",
   "version": "3.10.8"
  }
 },
 "nbformat": 4,
 "nbformat_minor": 2
}
